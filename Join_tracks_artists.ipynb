{
 "cells": [
  {
   "cell_type": "code",
   "metadata": {
    "cell_id": "00000-4c8ca86c-d87b-4f83-a067-2da44e52e4e8",
    "deepnote_cell_type": "code"
   },
   "source": "import numpy as np, pandas as pd\nimport matplotlib.pyplot as plt, seaborn as sns\nfrom tqdm import tqdm",
   "execution_count": 1,
   "outputs": []
  },
  {
   "cell_type": "code",
   "metadata": {
    "cell_id": "00001-1e5e0017-40cf-4a85-9904-d02c8c033a46",
    "deepnote_cell_type": "code"
   },
   "source": "artists = pd.read_csv(\"Csv/artists.csv\")\ntracks = pd.read_csv(\"Csv/tracks.csv\")\nartists=artists.set_index('id')\ntracks['id_artists']=tracks['id_artists'].apply(eval)\ntracks['artists']=tracks['artists'].apply(eval)\ntracks['combined_followers']=float('NaN')\ntracks['combined_popularity']=float('NaN')",
   "execution_count": 2,
   "outputs": []
  },
  {
   "cell_type": "code",
   "metadata": {
    "cell_id": "00002-8f8487f7-6d5f-4004-9466-4ec085a29dc8",
    "deepnote_cell_type": "code"
   },
   "source": "tracks['#artists']=tracks['id_artists'].str.len().astype(int)",
   "execution_count": 3,
   "outputs": []
  },
  {
   "cell_type": "code",
   "metadata": {
    "cell_id": "00003-c11e52e2-8864-4020-ab35-fa9136d3a119",
    "deepnote_cell_type": "code"
   },
   "source": "tracks['artist_followers'] = tracks.apply(lambda x: [], axis=1)\ntracks['artist_popularity'] = tracks.apply(lambda x: [], axis=1)",
   "execution_count": 4,
   "outputs": []
  },
  {
   "cell_type": "code",
   "metadata": {
    "cell_id": "00004-166b2b8f-999b-4324-a40a-318dc74235f7",
    "deepnote_cell_type": "code"
   },
   "source": "for i in range(len(tracks)):\n    for j in range(len(tracks['id_artists'].loc[i])):\n        artist_id=tracks['id_artists'].loc[i][j]\n        if artist_id in artists.index:\n            followers=(artists['followers'].loc[artist_id])\n            popularity=(artists['popularity'].loc[artist_id])\n            tracks['artist_followers'][i].append(followers)\n            tracks['artist_popularity'][i].append(popularity)",
   "execution_count": 5,
   "outputs": []
  },
  {
   "cell_type": "code",
   "metadata": {
    "cell_id": "00005-1839c0a5-7f87-4afb-a4ed-e6d3a8a64ea5",
    "deepnote_cell_type": "code"
   },
   "source": "for i in range(len(tracks)):\n    sorted_followers=tracks['artist_followers'][i]\n    sorted_followers.sort(reverse=True)\n    sorted_popularity=tracks['artist_popularity'][i]\n    sorted_popularity.sort(reverse=True)\n    combined_popularity=0\n    combined_followers=0\n    for j in range(len(sorted_followers)):\n            if len(sorted_followers)>0:\n                combined_followers+=sorted_followers[j]*(1/(j+1))\n            else:\n                combined_followers=float('NaN')\n            if len(sorted_popularity)>0:\n                combined_popularity+=sorted_popularity[j]*(1/(j+1))\n            else:\n                combined_popularity = float('NaN')\n    tracks['combined_followers'][i]=combined_followers\n    tracks['combined_popularity'][i]=combined_popularity",
   "execution_count": 6,
   "outputs": [
    {
     "name": "stderr",
     "output_type": "stream",
     "text": "<ipython-input-6-d832d9364061>:17: SettingWithCopyWarning: \nA value is trying to be set on a copy of a slice from a DataFrame\n\nSee the caveats in the documentation: https://pandas.pydata.org/pandas-docs/stable/user_guide/indexing.html#returning-a-view-versus-a-copy\n  tracks['combined_followers'][i]=combined_followers\n<ipython-input-6-d832d9364061>:18: SettingWithCopyWarning: \nA value is trying to be set on a copy of a slice from a DataFrame\n\nSee the caveats in the documentation: https://pandas.pydata.org/pandas-docs/stable/user_guide/indexing.html#returning-a-view-versus-a-copy\n  tracks['combined_popularity'][i]=combined_popularity\n"
    }
   ]
  },
  {
   "cell_type": "code",
   "metadata": {
    "cell_id": "00006-9f7c658d-2ba1-4756-b19a-307eb89f8261",
    "deepnote_cell_type": "code"
   },
   "source": "tracks.to_csv('joined_tracks_artists.csv', index=False)",
   "execution_count": 7,
   "outputs": []
  },
  {
   "cell_type": "code",
   "metadata": {
    "cell_id": "00007-9b0ce583-1a79-48ca-9049-2647c952b956",
    "deepnote_cell_type": "code"
   },
   "source": "",
   "execution_count": null,
   "outputs": []
  },
  {
   "cell_type": "markdown",
   "source": "<a style='text-decoration:none;line-height:16px;display:flex;color:#5B5B62;padding:10px;justify-content:end;' href='https://deepnote.com?utm_source=created-in-deepnote-cell&projectId=efdb1931-d19c-4850-b12b-726a7087f8c0' target=\"_blank\">\n<img alt='Created in deepnote.com' style='display:inline;max-height:16px;margin:0px;margin-right:7.5px;' src='data:image/svg+xml;base64,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' > </img>\nCreated in <span style='font-weight:600;margin-left:4px;'>Deepnote</span></a>",
   "metadata": {
    "tags": [],
    "created_in_deepnote_cell": true,
    "deepnote_cell_type": "markdown"
   }
  }
 ],
 "nbformat": 4,
 "nbformat_minor": 5,
 "metadata": {
  "kernelspec": {
   "display_name": "Python 3",
   "language": "python",
   "name": "python3"
  },
  "language_info": {
   "codemirror_mode": {
    "name": "ipython",
    "version": 3
   },
   "file_extension": ".py",
   "mimetype": "text/x-python",
   "name": "python",
   "nbconvert_exporter": "python",
   "pygments_lexer": "ipython3",
   "version": "3.8.8"
  },
  "deepnote_notebook_id": "990e17bc-4ab9-4457-89e1-791bf10425cf",
  "deepnote": {},
  "deepnote_execution_queue": []
 }
}